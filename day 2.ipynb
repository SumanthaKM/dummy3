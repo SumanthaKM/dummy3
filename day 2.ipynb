{
 "cells": [
  {
   "cell_type": "code",
   "execution_count": 8,
   "id": "97d8efe8",
   "metadata": {},
   "outputs": [],
   "source": [
    "a=[\"sumanth\",\"sudi\",\"pammi\",\"puni\",\"sumanth\",\"sudi\"]\n"
   ]
  },
  {
   "cell_type": "code",
   "execution_count": 13,
   "id": "2fb4e986",
   "metadata": {},
   "outputs": [
    {
     "name": "stdout",
     "output_type": "stream",
     "text": [
      "2\n"
     ]
    }
   ],
   "source": [
    "x=0\n",
    "for i in a:\n",
    "    if i==\"sudi\":\n",
    "        x=x+1\n",
    "        \n",
    "print(x)"
   ]
  },
  {
   "cell_type": "code",
   "execution_count": 17,
   "id": "4af991d0",
   "metadata": {},
   "outputs": [],
   "source": [
    "name=('sumanth',12.2,'sudi',23.0000,'puni','pammi')"
   ]
  },
  {
   "cell_type": "code",
   "execution_count": 18,
   "id": "92601b84",
   "metadata": {},
   "outputs": [
    {
     "data": {
      "text/plain": [
       "('sumanth', 12.2, 'sudi', 23.0, 'puni', 'pammi')"
      ]
     },
     "execution_count": 18,
     "metadata": {},
     "output_type": "execute_result"
    }
   ],
   "source": [
    "name"
   ]
  },
  {
   "cell_type": "code",
   "execution_count": 19,
   "id": "7d95d08f",
   "metadata": {},
   "outputs": [
    {
     "data": {
      "text/plain": [
       "tuple"
      ]
     },
     "execution_count": 19,
     "metadata": {},
     "output_type": "execute_result"
    }
   ],
   "source": [
    "type(name)"
   ]
  },
  {
   "cell_type": "code",
   "execution_count": 44,
   "id": "0cecf324",
   "metadata": {},
   "outputs": [
    {
     "name": "stdout",
     "output_type": "stream",
     "text": [
      "26\n"
     ]
    }
   ],
   "source": [
    "num=(27,43,45,405,26)\n",
    "smallest=num[0]\n",
    "for i in num:\n",
    "    if i<smallest:\n",
    "        smallest=i\n",
    "print(smallest)\n",
    "\n",
    "\n"
   ]
  },
  {
   "cell_type": "code",
   "execution_count": 46,
   "id": "379894bd",
   "metadata": {},
   "outputs": [
    {
     "name": "stdout",
     "output_type": "stream",
     "text": [
      "405\n"
     ]
    }
   ],
   "source": [
    "num=(27,43,45,405,26)\n",
    "largest=num[0]\n",
    "for i in num:\n",
    "    if i>largest:\n",
    "        largest=i\n",
    "print(largest)\n"
   ]
  },
  {
   "cell_type": "code",
   "execution_count": null,
   "id": "2ac11762",
   "metadata": {},
   "outputs": [],
   "source": []
  }
 ],
 "metadata": {
  "kernelspec": {
   "display_name": "Python 3 (ipykernel)",
   "language": "python",
   "name": "python3"
  },
  "language_info": {
   "codemirror_mode": {
    "name": "ipython",
    "version": 3
   },
   "file_extension": ".py",
   "mimetype": "text/x-python",
   "name": "python",
   "nbconvert_exporter": "python",
   "pygments_lexer": "ipython3",
   "version": "3.9.12"
  }
 },
 "nbformat": 4,
 "nbformat_minor": 5
}
